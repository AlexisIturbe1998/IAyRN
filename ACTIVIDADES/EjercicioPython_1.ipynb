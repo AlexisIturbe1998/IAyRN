{
  "nbformat": 4,
  "nbformat_minor": 0,
  "metadata": {
    "colab": {
      "provenance": [],
      "authorship_tag": "ABX9TyMHn8jfzlptWSpDaszRALxn",
      "include_colab_link": true
    },
    "kernelspec": {
      "name": "python3",
      "display_name": "Python 3"
    },
    "language_info": {
      "name": "python"
    }
  },
  "cells": [
    {
      "cell_type": "markdown",
      "metadata": {
        "id": "view-in-github",
        "colab_type": "text"
      },
      "source": [
        "<a href=\"https://colab.research.google.com/github/AlexisIturbe1998/IAyRN/blob/main/EjercicioPython_1.ipynb\" target=\"_parent\"><img src=\"https://colab.research.google.com/assets/colab-badge.svg\" alt=\"Open In Colab\"/></a>"
      ]
    },
    {
      "cell_type": "code",
      "source": [
        "                                                    #Actividad 1 - Ejercicios en Python.\n",
        "#Alexis Armando Iturbe Castro - 1673924 - Hora: N1-N3"
      ],
      "metadata": {
        "id": "Roq1ZbeWNeoW"
      },
      "execution_count": 19,
      "outputs": []
    },
    {
      "cell_type": "code",
      "execution_count": 29,
      "metadata": {
        "colab": {
          "base_uri": "https://localhost:8080/"
        },
        "id": "zGVkr3frFNiK",
        "outputId": "e079700d-e84b-4ec6-b865-fc2e7b0b32fc"
      },
      "outputs": [
        {
          "output_type": "stream",
          "name": "stdout",
          "text": [
            "Ingrese cualquier número: 80\n",
            "Ingrese cualquier número: 20\n",
            "La suma de 80.0 y 20.0 es: 100.0\n"
          ]
        }
      ],
      "source": [
        "#Ejercico 1 : Desarrolla un algoritmo que solicite al usuario dos números y muestre la suma de ambos.\n",
        "\n",
        "def obtener_numero():\n",
        "    while True:\n",
        "        try:\n",
        "            numero = float(input(\"Ingrese cualquier número: \"))\n",
        "            return numero\n",
        "        except ValueError:\n",
        "            print(\"Por favor, ingrese un número válido.\")\n",
        "\n",
        "def main():\n",
        "    Primer_Valor = obtener_numero()\n",
        "    Segundo_Valor = obtener_numero()\n",
        "\n",
        "    suma = Primer_Valor + Segundo_Valor\n",
        "\n",
        "    print(f\"La suma de {Primer_Valor} y {Segundo_Valor} es: {suma}\")\n",
        "\n",
        "if __name__ == \"__main__\":\n",
        "    main()\n",
        "\n"
      ]
    },
    {
      "cell_type": "code",
      "source": [
        "#Ejercico 2 : Desarrolla un algoritmo que calcule el factorial de un número ingresado por el usuario.\n",
        "\n",
        "def factorial(n):\n",
        "    if n == 0 or n == 1:\n",
        "        return 1\n",
        "    else:\n",
        "        return n * factorial(n-1)\n",
        "\n",
        "try:\n",
        "    numero = int(input(\"Ingresa un número: \"))\n",
        "    if numero < 0:\n",
        "        print(\"El factorial no está definido para números negativos.\")\n",
        "    else:\n",
        "        resultado = factorial(numero)\n",
        "        print(f\"El factorial de {numero} es: {resultado}\")\n",
        "except ValueError:\n",
        "    print(\"Por favor, ingresa un número entero válido.\")\n"
      ],
      "metadata": {
        "colab": {
          "base_uri": "https://localhost:8080/"
        },
        "id": "gFFFX6XqHCZN",
        "outputId": "3fbaed53-c6a8-4b37-b9b5-46e7b7cd5766"
      },
      "execution_count": 30,
      "outputs": [
        {
          "output_type": "stream",
          "name": "stdout",
          "text": [
            "Ingresa un número: 4\n",
            "El factorial de 4 es: 24\n"
          ]
        }
      ]
    },
    {
      "cell_type": "code",
      "source": [
        "#Ejercico 3 : Desarrolla un algoritmo que tome una lista de números y un número objetivo, y muestre la posición (índice) en la que se encuentra el número objetivo en la lista.\n",
        "\n",
        "def buscar_numero(lista, objetivo):\n",
        "    for i, num in enumerate(lista):\n",
        "        if num == objetivo:\n",
        "            return i\n",
        "    return -1  # Si no se encuentra el número objetivo, retornamos -1\n",
        "\n",
        "lista_numeros = [7, 10, 17, 20, 27, 30] #Cambiar valores a voluntad.\n",
        "numero_objetivo = 17   #Poner cualquier número que se encuentre dentro de la lista.\n",
        "\n",
        "indice = buscar_numero(lista_numeros, numero_objetivo)\n",
        "\n",
        "if indice != -1:\n",
        "    print(f\"El número objetivo {numero_objetivo} se encuentra en la posición {indice} de la lista.\")\n",
        "else:\n",
        "    print(f\"El número objetivo {numero_objetivo} no se encuentra en la lista.\")\n"
      ],
      "metadata": {
        "colab": {
          "base_uri": "https://localhost:8080/"
        },
        "id": "jD7Uz-rQHmmu",
        "outputId": "729f8177-d731-4fc3-e195-33fb13e7e385"
      },
      "execution_count": 31,
      "outputs": [
        {
          "output_type": "stream",
          "name": "stdout",
          "text": [
            "El número objetivo 17 se encuentra en la posición 2 de la lista.\n"
          ]
        }
      ]
    },
    {
      "cell_type": "code",
      "source": [
        "# Ejercicio 4 : Desarrolla un algoritmo que tome una cadena de texto y determine si es un palíndromo (se lee igual de adelante hacia atrás y viceversa).\n",
        "\n",
        "def es_palindromo(palabra):\n",
        "    palabra = palabra.replace(\" \", \"\").lower() #Para no tomar en cuenta letras mayúsculas, minusculas y espacios.\n",
        "    return palabra == palabra[::-1]\n",
        "\n",
        "texto = input(\"Ingresa una cadena de texto: \")\n",
        "\n",
        "if es_palindromo(texto):\n",
        "    print(\"Es un palíndromo.\")\n",
        "else:\n",
        "    print(\"No es un palíndromo.\")\n",
        "\n"
      ],
      "metadata": {
        "colab": {
          "base_uri": "https://localhost:8080/"
        },
        "id": "5Lrbjs0YJ_Uf",
        "outputId": "4b731d49-165b-4db0-d89f-66ac3e395bf1"
      },
      "execution_count": 42,
      "outputs": [
        {
          "output_type": "stream",
          "name": "stdout",
          "text": [
            "Ingresa una cadena de texto: Anita lava la tina\n",
            "Es un palíndromo.\n"
          ]
        }
      ]
    }
  ]
}